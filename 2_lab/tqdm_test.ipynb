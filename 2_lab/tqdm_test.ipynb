{
 "cells": [
  {
   "cell_type": "code",
   "execution_count": 16,
   "id": "41b092b3",
   "metadata": {},
   "outputs": [],
   "source": [
    "from tqdm import tqdm\n",
    "from time import sleep"
   ]
  },
  {
   "cell_type": "code",
   "execution_count": 17,
   "id": "ed780de8",
   "metadata": {},
   "outputs": [
    {
     "name": "stderr",
     "output_type": "stream",
     "text": [
      "100%|██████████| 4/4 [00:04<00:00,  1.00s/it]\n"
     ]
    }
   ],
   "source": [
    "l = [1, 2, 3, 4]\n",
    "\n",
    "for i in tqdm(l):\n",
    "    sleep(1)"
   ]
  },
  {
   "cell_type": "code",
   "execution_count": 18,
   "id": "c0a7aa5d",
   "metadata": {},
   "outputs": [
    {
     "name": "stderr",
     "output_type": "stream",
     "text": [
      "100%|██████████| 5/5 [00:05<00:00,  1.00s/it]\n"
     ]
    }
   ],
   "source": [
    "r = range(5)\n",
    "for i in tqdm(r):\n",
    "    sleep(1)"
   ]
  },
  {
   "cell_type": "code",
   "execution_count": 19,
   "id": "204a40d1",
   "metadata": {},
   "outputs": [
    {
     "name": "stdout",
     "output_type": "stream",
     "text": [
      "0: імя потоку=ThreadPoolExecutor-1_0\n",
      "1: імя потоку=ThreadPoolExecutor-1_1\n"
     ]
    },
    {
     "data": {
      "application/vnd.jupyter.widget-view+json": {
       "model_id": "670aaad6c9234db49ccbe5c0b5e021f7",
       "version_major": 2,
       "version_minor": 0
      },
      "text/plain": [
       "Start>>>:   0%|          | 0/10 [00:00<?, ?it/s]"
      ]
     },
     "metadata": {},
     "output_type": "display_data"
    },
    {
     "data": {
      "application/vnd.jupyter.widget-view+json": {
       "model_id": "69d2ea4f6eeb4b139eeafe7b33e644a0",
       "version_major": 2,
       "version_minor": 0
      },
      "text/plain": [
       "Ітерація в треді:   0%|          | 0/1 [00:00<?, ?it/s]"
      ]
     },
     "metadata": {},
     "output_type": "display_data"
    },
    {
     "data": {
      "application/vnd.jupyter.widget-view+json": {
       "model_id": "5746fe30c3bc4a7f82d013ca3c6a9198",
       "version_major": 2,
       "version_minor": 0
      },
      "text/plain": [
       "Ітерація в треді: 0it [00:00, ?it/s]"
      ]
     },
     "metadata": {},
     "output_type": "display_data"
    },
    {
     "name": "stdout",
     "output_type": "stream",
     "text": [
      "2: імя потоку=ThreadPoolExecutor-1_0\n"
     ]
    },
    {
     "data": {
      "application/vnd.jupyter.widget-view+json": {
       "model_id": "744e2169c7c045e6a0dd151cfff65341",
       "version_major": 2,
       "version_minor": 0
      },
      "text/plain": [
       "Ітерація в треді:   0%|          | 0/2 [00:00<?, ?it/s]"
      ]
     },
     "metadata": {},
     "output_type": "display_data"
    },
    {
     "name": "stdout",
     "output_type": "stream",
     "text": [
      "3: імя потоку=ThreadPoolExecutor-1_1\n"
     ]
    },
    {
     "data": {
      "application/vnd.jupyter.widget-view+json": {
       "model_id": "c000b87962414f1e89bb6ae7f0658a8e",
       "version_major": 2,
       "version_minor": 0
      },
      "text/plain": [
       "Ітерація в треді:   0%|          | 0/3 [00:00<?, ?it/s]"
      ]
     },
     "metadata": {},
     "output_type": "display_data"
    },
    {
     "name": "stdout",
     "output_type": "stream",
     "text": [
      "4: імя потоку=ThreadPoolExecutor-1_0\n"
     ]
    },
    {
     "data": {
      "application/vnd.jupyter.widget-view+json": {
       "model_id": "06e1a899b37c4657bdba0b5b5ccd5d9d",
       "version_major": 2,
       "version_minor": 0
      },
      "text/plain": [
       "Ітерація в треді:   0%|          | 0/4 [00:00<?, ?it/s]"
      ]
     },
     "metadata": {},
     "output_type": "display_data"
    },
    {
     "name": "stdout",
     "output_type": "stream",
     "text": [
      "5: імя потоку=ThreadPoolExecutor-1_1\n"
     ]
    },
    {
     "data": {
      "application/vnd.jupyter.widget-view+json": {
       "model_id": "e4630547f4b34aff9a92272ed0a4f123",
       "version_major": 2,
       "version_minor": 0
      },
      "text/plain": [
       "Ітерація в треді:   0%|          | 0/5 [00:00<?, ?it/s]"
      ]
     },
     "metadata": {},
     "output_type": "display_data"
    },
    {
     "name": "stdout",
     "output_type": "stream",
     "text": [
      "6: імя потоку=ThreadPoolExecutor-1_0\n"
     ]
    },
    {
     "data": {
      "application/vnd.jupyter.widget-view+json": {
       "model_id": "397c5516d2894f2dab873cb2d10b857b",
       "version_major": 2,
       "version_minor": 0
      },
      "text/plain": [
       "Ітерація в треді:   0%|          | 0/6 [00:00<?, ?it/s]"
      ]
     },
     "metadata": {},
     "output_type": "display_data"
    },
    {
     "name": "stdout",
     "output_type": "stream",
     "text": [
      "7: імя потоку=ThreadPoolExecutor-1_1\n"
     ]
    },
    {
     "data": {
      "application/vnd.jupyter.widget-view+json": {
       "model_id": "6a93f01bfc8249139f00165b7e1530aa",
       "version_major": 2,
       "version_minor": 0
      },
      "text/plain": [
       "Ітерація в треді:   0%|          | 0/7 [00:00<?, ?it/s]"
      ]
     },
     "metadata": {},
     "output_type": "display_data"
    },
    {
     "name": "stdout",
     "output_type": "stream",
     "text": [
      "8: імя потоку=ThreadPoolExecutor-1_0\n"
     ]
    },
    {
     "data": {
      "application/vnd.jupyter.widget-view+json": {
       "model_id": "44644c3f89ad44b5a25949fc5d08663e",
       "version_major": 2,
       "version_minor": 0
      },
      "text/plain": [
       "Ітерація в треді:   0%|          | 0/8 [00:00<?, ?it/s]"
      ]
     },
     "metadata": {},
     "output_type": "display_data"
    },
    {
     "name": "stdout",
     "output_type": "stream",
     "text": [
      "9: імя потоку=ThreadPoolExecutor-1_1\n"
     ]
    },
    {
     "data": {
      "application/vnd.jupyter.widget-view+json": {
       "model_id": "1615f21bb1bc4dc3baed33d964d70ca1",
       "version_major": 2,
       "version_minor": 0
      },
      "text/plain": [
       "Ітерація в треді:   0%|          | 0/9 [00:00<?, ?it/s]"
      ]
     },
     "metadata": {},
     "output_type": "display_data"
    }
   ],
   "source": [
    "from concurrent.futures import ThreadPoolExecutor\n",
    "from threading import current_thread\n",
    "import math\n",
    "from tqdm.notebook import tqdm\n",
    "\n",
    "def check_thread(v):\n",
    "    \"\"\"Функція для багатопоточночті через треди\n",
    "    \"\"\"\n",
    "    thread = current_thread()\n",
    "    print(f\"{v}: імя потоку={thread.name}\")\n",
    "    for _ in tqdm(range(v), desc=\"Ітерація в треді\", leave=False):\n",
    "        sleep(1)\n",
    "    a = math.sqrt(64^v)\n",
    "    return a\n",
    "\n",
    "with ThreadPoolExecutor(max_workers=2) as executor:\n",
    "    list(tqdm(executor.map(check_thread, range(10)), total=10, desc=\"Start>>>\"))"
   ]
  },
  {
   "cell_type": "code",
   "execution_count": 20,
   "id": "4ace64d8",
   "metadata": {},
   "outputs": [
    {
     "data": {
      "application/vnd.jupyter.widget-view+json": {
       "model_id": "4aab5c99805a4660974b1c0e2012c199",
       "version_major": 2,
       "version_minor": 0
      },
      "text/plain": [
       "Загальний прогрес:   0%|          | 0/5 [00:00<?, ?it/s]"
      ]
     },
     "metadata": {},
     "output_type": "display_data"
    },
    {
     "data": {
      "application/vnd.jupyter.widget-view+json": {
       "model_id": "4daa4947e13f46aa9ef83b4df7b93228",
       "version_major": 2,
       "version_minor": 0
      },
      "text/plain": [
       "Внутрішня ітерація:   0%|          | 0/10 [00:00<?, ?it/s]"
      ]
     },
     "metadata": {},
     "output_type": "display_data"
    },
    {
     "data": {
      "application/vnd.jupyter.widget-view+json": {
       "model_id": "ef6c187c7e3049ffa638536d115ddfa1",
       "version_major": 2,
       "version_minor": 0
      },
      "text/plain": [
       "Внутрішня ітерація:   0%|          | 0/10 [00:00<?, ?it/s]"
      ]
     },
     "metadata": {},
     "output_type": "display_data"
    },
    {
     "data": {
      "application/vnd.jupyter.widget-view+json": {
       "model_id": "e0cb6c6b71f145b9a1265dfff360d91c",
       "version_major": 2,
       "version_minor": 0
      },
      "text/plain": [
       "Внутрішня ітерація:   0%|          | 0/10 [00:00<?, ?it/s]"
      ]
     },
     "metadata": {},
     "output_type": "display_data"
    },
    {
     "data": {
      "application/vnd.jupyter.widget-view+json": {
       "model_id": "f4c73e43e56b40ffbc365d95f4170095",
       "version_major": 2,
       "version_minor": 0
      },
      "text/plain": [
       "Внутрішня ітерація:   0%|          | 0/10 [00:00<?, ?it/s]"
      ]
     },
     "metadata": {},
     "output_type": "display_data"
    },
    {
     "data": {
      "application/vnd.jupyter.widget-view+json": {
       "model_id": "4d11a97b40824c25893406e12e95d2f3",
       "version_major": 2,
       "version_minor": 0
      },
      "text/plain": [
       "Внутрішня ітерація:   0%|          | 0/10 [00:00<?, ?it/s]"
      ]
     },
     "metadata": {},
     "output_type": "display_data"
    }
   ],
   "source": [
    "for i in tqdm(range(5), desc=\"Загальний прогрес\"):\n",
    "    for j in tqdm(range(10), desc=\"Внутрішня ітерація\", leave=False):\n",
    "        sleep(0.1)"
   ]
  },
  {
   "cell_type": "code",
   "execution_count": 21,
   "id": "c7e00dc4",
   "metadata": {},
   "outputs": [
    {
     "data": {
      "application/vnd.jupyter.widget-view+json": {
       "model_id": "00c45579ebda46a7a709ab8063320d71",
       "version_major": 2,
       "version_minor": 0
      },
      "text/plain": [
       "  0%|          | 0/2 [00:00<?, ?it/s]"
      ]
     },
     "metadata": {},
     "output_type": "display_data"
    },
    {
     "name": "stdout",
     "output_type": "stream",
     "text": [
      "2\n"
     ]
    }
   ],
   "source": [
    "a = list(tqdm(range(2)))\n",
    "print(len(a))"
   ]
  },
  {
   "cell_type": "code",
   "execution_count": 22,
   "id": "141b437a",
   "metadata": {},
   "outputs": [
    {
     "name": "stdout",
     "output_type": "stream",
     "text": [
      "1\n",
      "5\n",
      "7\n"
     ]
    }
   ],
   "source": [
    "l = [1,5,7]\n",
    "for i in l:\n",
    "    print(i)\n",
    "    "
   ]
  },
  {
   "cell_type": "code",
   "execution_count": 23,
   "id": "f6c515da",
   "metadata": {},
   "outputs": [
    {
     "name": "stdout",
     "output_type": "stream",
     "text": [
      "Ітерація 1\n",
      "2\n",
      "Ітерація 0\n",
      "Вивід з циклу, 0 будемо мати генератор 1\n",
      "Ітерація 1\n",
      "Вивід з циклу, 1 будемо мати генератор 2\n",
      "Ітерація 2\n",
      "Вивід з циклу, 2 будемо мати генератор 3\n",
      "Ітерація 3\n",
      "Вивід з циклу, 3 будемо мати генератор 4\n",
      "Ітерація 4\n",
      "Вивід з циклу, 4 будемо мати генератор 5\n",
      "Ітерація 5\n",
      "Вивід з циклу, 5 будемо мати генератор 6\n",
      "Ітерація 6\n",
      "Вивід з циклу, 6 будемо мати генератор 7\n",
      "Ітерація 7\n",
      "Вивід з циклу, 7 будемо мати генератор 8\n",
      "Ітерація 8\n",
      "Вивід з циклу, 8 будемо мати генератор 9\n",
      "Ітерація 9\n",
      "Вивід з циклу, 9 будемо мати генератор 10\n"
     ]
    }
   ],
   "source": [
    "def my_generator(x):\n",
    "    print(f\"Ітерація {x}\")\n",
    "    yield x+1\n",
    "    print(\"Після yield\")\n",
    "\n",
    "print(next(my_generator(1)))\n",
    "g = my_generator\n",
    "\n",
    "for i in range(10):\n",
    "    print (f\"Вивід з циклу, {i} будемо мати генератор {next(g(i))}\")\n",
    "    "
   ]
  },
  {
   "cell_type": "code",
   "execution_count": 24,
   "id": "ed8bfc8f",
   "metadata": {},
   "outputs": [
    {
     "data": {
      "text/plain": [
       "generator"
      ]
     },
     "execution_count": 24,
     "metadata": {},
     "output_type": "execute_result"
    }
   ],
   "source": [
    "type(my_generator(1))"
   ]
  },
  {
   "cell_type": "code",
   "execution_count": 28,
   "id": "f94c4d3e",
   "metadata": {},
   "outputs": [],
   "source": [
    "def my_gen_test():\n",
    "    for i in [1,4,5]:\n",
    "        print(\"Перед yield\")\n",
    "        sleep(2)\n",
    "        yield i \n",
    "        print(\"Після yield\")\n",
    "        sleep(2)\n",
    "\n",
    "    return None"
   ]
  },
  {
   "cell_type": "code",
   "execution_count": 29,
   "id": "2fbeae0b",
   "metadata": {},
   "outputs": [
    {
     "name": "stdout",
     "output_type": "stream",
     "text": [
      "Перед yield\n",
      "Вивід з генератора 1\n",
      "Після yield\n",
      "Перед yield\n",
      "Вивід з генератора 4\n",
      "Після yield\n",
      "Перед yield\n",
      "Вивід з генератора 5\n",
      "Після yield\n"
     ]
    }
   ],
   "source": [
    "for m in my_gen_test():\n",
    "    print(f\"Вивід з генератора {m}\")"
   ]
  },
  {
   "cell_type": "code",
   "execution_count": 30,
   "id": "102d89f6",
   "metadata": {},
   "outputs": [
    {
     "name": "stdout",
     "output_type": "stream",
     "text": [
      "Перед yield\n",
      "Після yield\n",
      "Перед yield\n",
      "Після yield\n",
      "Перед yield\n"
     ]
    },
    {
     "data": {
      "text/plain": [
       "5"
      ]
     },
     "execution_count": 30,
     "metadata": {},
     "output_type": "execute_result"
    }
   ],
   "source": [
    "i = my_gen_test()\n",
    "next (i)\n",
    "next (i)\n",
    "next (i)\n"
   ]
  },
  {
   "cell_type": "code",
   "execution_count": 33,
   "id": "ffc2a7d0",
   "metadata": {},
   "outputs": [
    {
     "name": "stdout",
     "output_type": "stream",
     "text": [
      "['1', ' test', ' 18', ' end']\n",
      "['2', ' tt', ' 00', ' new']\n"
     ]
    }
   ],
   "source": [
    "import csv\n",
    "\n",
    "f = csv.reader(open(\"1.csv\"))\n",
    "\n",
    "for s in f:\n",
    "    print(s)"
   ]
  },
  {
   "cell_type": "code",
   "execution_count": 35,
   "id": "010ec75f",
   "metadata": {},
   "outputs": [
    {
     "name": "stdout",
     "output_type": "stream",
     "text": [
      "[['1', ' test', ' 18', ' end'], ['2', ' tt', ' 00', ' new']]\n"
     ]
    }
   ],
   "source": [
    "def get_csv():\n",
    "   # with open(\"1.csv\") as c:\n",
    "    #   for s in csv.reader(c): \n",
    "    #  yield s\n",
    "    sleep(2)\n",
    "    yield [s for s in csv.reader(open(\"1.csv\"))] \n",
    "\n",
    "for ss in get_csv():\n",
    "        print(list(ss))"
   ]
  },
  {
   "cell_type": "code",
   "execution_count": null,
   "id": "1b053b94",
   "metadata": {},
   "outputs": [],
   "source": [
    "import csv\n",
    "import string\n",
    "import random\n",
    "import psutil\n",
    "\n",
    "with open(\"1.csv\",'a') as f:\n",
    " wr = csv.writer (f)\n",
    " for i in range(1000000):\n",
    "    ss = \"\".join (random.choices(string.ascii_letters , k=3))\n",
    "    wr.writerow ([random.choice(string.digits), \"tt\", 0, ss])"
   ]
  }
 ],
 "metadata": {
  "kernelspec": {
   "display_name": "Python 3",
   "language": "python",
   "name": "python3"
  },
  "language_info": {
   "codemirror_mode": {
    "name": "ipython",
    "version": 3
   },
   "file_extension": ".py",
   "mimetype": "text/x-python",
   "name": "python",
   "nbconvert_exporter": "python",
   "pygments_lexer": "ipython3",
   "version": "3.13.1"
  }
 },
 "nbformat": 4,
 "nbformat_minor": 5
}
